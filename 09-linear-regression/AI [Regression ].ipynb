{
 "cells": [
  {
   "cell_type": "code",
   "execution_count": 3,
   "metadata": {
    "ExecuteTime": {
     "end_time": "2021-09-04T06:05:59.306654Z",
     "start_time": "2021-09-04T06:05:55.125324Z"
    }
   },
   "outputs": [
    {
     "name": "stdout",
     "output_type": "stream",
     "text": [
      "Requirement already up-to-date: scikit-learn in c:\\users\\divya\\anaconda3\\lib\\site-packages (1.0.2)\n",
      "Requirement already satisfied, skipping upgrade: joblib>=0.11 in c:\\users\\divya\\anaconda3\\lib\\site-packages (from scikit-learn) (1.0.1)\n",
      "Requirement already satisfied, skipping upgrade: numpy>=1.14.6 in c:\\users\\divya\\anaconda3\\lib\\site-packages (from scikit-learn) (1.18.5)\n",
      "Requirement already satisfied, skipping upgrade: scipy>=1.1.0 in c:\\users\\divya\\anaconda3\\lib\\site-packages (from scikit-learn) (1.5.0)\n",
      "Requirement already satisfied, skipping upgrade: threadpoolctl>=2.0.0 in c:\\users\\divya\\anaconda3\\lib\\site-packages (from scikit-learn) (2.1.0)\n",
      "Note: you may need to restart the kernel to use updated packages.\n"
     ]
    }
   ],
   "source": [
    "pip install -U scikit-learn"
   ]
  },
  {
   "cell_type": "code",
   "execution_count": 4,
   "metadata": {},
   "outputs": [
    {
     "name": "stdout",
     "output_type": "stream",
     "text": [
      "Requirement already satisfied: statsmodels in c:\\users\\divya\\anaconda3\\lib\\site-packages (0.11.1)\n",
      "Requirement already satisfied: numpy>=1.14 in c:\\users\\divya\\anaconda3\\lib\\site-packages (from statsmodels) (1.18.5)\n",
      "Requirement already satisfied: scipy>=1.0 in c:\\users\\divya\\anaconda3\\lib\\site-packages (from statsmodels) (1.5.0)\n",
      "Requirement already satisfied: pandas>=0.21 in c:\\users\\divya\\anaconda3\\lib\\site-packages (from statsmodels) (1.0.5)\n",
      "Requirement already satisfied: patsy>=0.5 in c:\\users\\divya\\anaconda3\\lib\\site-packages (from statsmodels) (0.5.1)\n",
      "Requirement already satisfied: python-dateutil>=2.6.1 in c:\\users\\divya\\anaconda3\\lib\\site-packages (from pandas>=0.21->statsmodels) (2.8.1)\n",
      "Requirement already satisfied: pytz>=2017.2 in c:\\users\\divya\\anaconda3\\lib\\site-packages (from pandas>=0.21->statsmodels) (2020.1)\n",
      "Requirement already satisfied: six in c:\\users\\divya\\anaconda3\\lib\\site-packages (from patsy>=0.5->statsmodels) (1.15.0)\n",
      "Note: you may need to restart the kernel to use updated packages.\n"
     ]
    }
   ],
   "source": [
    "pip install statsmodels"
   ]
  },
  {
   "cell_type": "code",
   "execution_count": 5,
   "metadata": {
    "ExecuteTime": {
     "end_time": "2021-09-04T06:06:00.854395Z",
     "start_time": "2021-09-04T06:06:00.840290Z"
    }
   },
   "outputs": [],
   "source": [
    "import sklearn\n",
    "import pandas as pd \n",
    "import numpy as np\n",
    "import matplotlib.pyplot as plt\n",
    "from sklearn.linear_model import LinearRegression\n",
    "import statsmodels.formula.api as smf\n",
    "from sklearn.metrics import r2_score\n"
   ]
  },
  {
   "cell_type": "code",
   "execution_count": 6,
   "metadata": {
    "ExecuteTime": {
     "end_time": "2021-09-04T06:42:13.099967Z",
     "start_time": "2021-09-04T06:42:12.938785Z"
    }
   },
   "outputs": [
    {
     "name": "stdout",
     "output_type": "stream",
     "text": [
      " Volume in drive D is New Volume\n",
      " Volume Serial Number is 8A93-4196\n",
      "\n",
      " Directory of D:\\Dev_Jatin\\DataScience\\DataScience_Learning\\09-linear-regression\n",
      "\n",
      "22-02-2022  09:57 PM    <DIR>          .\n",
      "21-02-2022  09:17 PM    <DIR>          ..\n",
      "21-02-2022  09:20 PM    <DIR>          .ipynb_checkpoints\n",
      "22-02-2022  09:57 PM            86,082 AI [Regression ].ipynb\n",
      "21-02-2022  09:17 PM             1,172 wc-at.csv\n",
      "               2 File(s)         87,254 bytes\n",
      "               3 Dir(s)  191,967,932,416 bytes free\n"
     ]
    }
   ],
   "source": [
    "ls"
   ]
  },
  {
   "cell_type": "code",
   "execution_count": 7,
   "metadata": {
    "ExecuteTime": {
     "end_time": "2021-08-31T15:23:36.964652Z",
     "start_time": "2021-08-31T15:23:36.765898Z"
    }
   },
   "outputs": [
    {
     "name": "stdout",
     "output_type": "stream",
     "text": [
      "(109, 2) Shape of Data Frame\n",
      "==============================\n",
      "   Waist     AT\n",
      "0  74.75  25.72\n",
      "1  72.60  25.89\n",
      "2  81.80  42.60\n",
      "3  83.95  42.80\n",
      "4  74.65  29.84\n",
      "5  71.85  21.68\n",
      "6  80.90  29.08\n",
      "7  83.40  32.98\n",
      "8  63.50  11.44\n",
      "9  73.20  32.22\n"
     ]
    },
    {
     "data": {
      "image/png": "[encoded data removed]",
      "text/plain": [
       "<Figure size 720x504 with 1 Axes>"
      ]
     },
     "metadata": {},
     "output_type": "display_data"
    }
   ],
   "source": [
    "\n",
    "wcat = pd.read_csv(\"wc-at.csv\")\n",
    "\n",
    "print (wcat.shape,\"Shape of Data Frame\")\n",
    "print (\"=\"*30)\n",
    "\n",
    "print (wcat.head(10))\n",
    "\n",
    "plt.figure(figsize=(10,7),facecolor=\"lightgreen\")\n",
    "plt.scatter(wcat.Waist,wcat.AT,);\n",
    "plt.xlabel(\"Waist\");\n",
    "plt.ylabel(\"AT\")\n",
    "# print (wcat.AT)\n",
    "plt.show()"
   ]
  },
  {
   "cell_type": "code",
   "execution_count": 45,
   "metadata": {
    "ExecuteTime": {
     "end_time": "2021-08-31T15:23:37.651766Z",
     "start_time": "2021-08-31T15:23:37.634523Z"
    }
   },
   "outputs": [
    {
     "data": {
      "text/html": [
       "<div>\n",
       "<style scoped>\n",
       "    .dataframe tbody tr th:only-of-type {\n",
       "        vertical-align: middle;\n",
       "    }\n",
       "\n",
       "    .dataframe tbody tr th {\n",
       "        vertical-align: top;\n",
       "    }\n",
       "\n",
       "    .dataframe thead th {\n",
       "        text-align: right;\n",
       "    }\n",
       "</style>\n",
       "<table border=\"1\" class=\"dataframe\">\n",
       "  <thead>\n",
       "    <tr style=\"text-align: right;\">\n",
       "      <th></th>\n",
       "      <th>Waist</th>\n",
       "      <th>AT</th>\n",
       "      <th>Waist_Sq</th>\n",
       "    </tr>\n",
       "  </thead>\n",
       "  <tbody>\n",
       "    <tr>\n",
       "      <th>Waist</th>\n",
       "      <td>1.000000</td>\n",
       "      <td>0.818558</td>\n",
       "      <td>0.997693</td>\n",
       "    </tr>\n",
       "    <tr>\n",
       "      <th>AT</th>\n",
       "      <td>0.818558</td>\n",
       "      <td>1.000000</td>\n",
       "      <td>0.810645</td>\n",
       "    </tr>\n",
       "    <tr>\n",
       "      <th>Waist_Sq</th>\n",
       "      <td>0.997693</td>\n",
       "      <td>0.810645</td>\n",
       "      <td>1.000000</td>\n",
       "    </tr>\n",
       "  </tbody>\n",
       "</table>\n",
       "</div>"
      ],
      "text/plain": [
       "             Waist        AT  Waist_Sq\n",
       "Waist     1.000000  0.818558  0.997693\n",
       "AT        0.818558  1.000000  0.810645\n",
       "Waist_Sq  0.997693  0.810645  1.000000"
      ]
     },
     "execution_count": 45,
     "metadata": {},
     "output_type": "execute_result"
    }
   ],
   "source": [
    "wcat.corr()"
   ]
  },
  {
   "cell_type": "code",
   "execution_count": 47,
   "metadata": {
    "ExecuteTime": {
     "end_time": "2021-08-31T15:23:38.395483Z",
     "start_time": "2021-08-31T15:23:38.387884Z"
    }
   },
   "outputs": [
    {
     "data": {
      "text/plain": [
       "(109, 3)"
      ]
     },
     "execution_count": 47,
     "metadata": {},
     "output_type": "execute_result"
    }
   ],
   "source": [
    "wcat.shape"
   ]
  },
  {
   "cell_type": "markdown",
   "metadata": {},
   "source": [
    "# creating model with SKLEARN"
   ]
  },
  {
   "cell_type": "code",
   "execution_count": 10,
   "metadata": {
    "ExecuteTime": {
     "end_time": "2021-09-04T06:15:27.102257Z",
     "start_time": "2021-09-04T06:15:26.960981Z"
    }
   },
   "outputs": [],
   "source": [
    "lm = LinearRegression()\n",
    "\n",
    "X = wcat[\"Waist\"].values.reshape(109,1)\n",
    "Y = wcat[\"AT\"].values.reshape(109,1)\n",
    "\n",
    "reg_sklearn = lm.fit(X,Y)"
   ]
  },
  {
   "cell_type": "code",
   "execution_count": 11,
   "metadata": {
    "ExecuteTime": {
     "end_time": "2021-09-04T06:25:24.325600Z",
     "start_time": "2021-09-04T06:25:24.309595Z"
    }
   },
   "outputs": [
    {
     "data": {
      "text/plain": [
       "array([[ 25.72],\n",
       "       [ 25.89],\n",
       "       [ 42.6 ],\n",
       "       [ 42.8 ],\n",
       "       [ 29.84],\n",
       "       [ 21.68],\n",
       "       [ 29.08],\n",
       "       [ 32.98],\n",
       "       [ 11.44],\n",
       "       [ 32.22],\n",
       "       [ 28.32],\n",
       "       [ 43.86],\n",
       "       [ 38.21],\n",
       "       [ 42.48],\n",
       "       [ 30.96],\n",
       "       [ 55.78],\n",
       "       [ 43.78],\n",
       "       [ 33.41],\n",
       "       [ 43.35],\n",
       "       [ 29.31],\n",
       "       [ 36.6 ],\n",
       "       [ 40.25],\n",
       "       [ 35.43],\n",
       "       [ 60.09],\n",
       "       [ 45.84],\n",
       "       [ 70.4 ],\n",
       "       [ 83.45],\n",
       "       [ 84.3 ],\n",
       "       [ 78.89],\n",
       "       [ 64.75],\n",
       "       [ 72.56],\n",
       "       [ 89.31],\n",
       "       [ 78.94],\n",
       "       [ 83.55],\n",
       "       [127.  ],\n",
       "       [121.  ],\n",
       "       [107.  ],\n",
       "       [129.  ],\n",
       "       [ 74.02],\n",
       "       [ 55.48],\n",
       "       [ 73.13],\n",
       "       [ 50.5 ],\n",
       "       [ 50.88],\n",
       "       [140.  ],\n",
       "       [ 96.54],\n",
       "       [118.  ],\n",
       "       [107.  ],\n",
       "       [123.  ],\n",
       "       [ 65.92],\n",
       "       [ 81.29],\n",
       "       [111.  ],\n",
       "       [ 90.73],\n",
       "       [133.  ],\n",
       "       [ 41.9 ],\n",
       "       [ 41.71],\n",
       "       [ 58.16],\n",
       "       [ 88.85],\n",
       "       [155.  ],\n",
       "       [ 70.77],\n",
       "       [ 75.08],\n",
       "       [ 57.05],\n",
       "       [ 99.73],\n",
       "       [ 27.96],\n",
       "       [123.  ],\n",
       "       [ 90.41],\n",
       "       [106.  ],\n",
       "       [144.  ],\n",
       "       [121.  ],\n",
       "       [ 97.13],\n",
       "       [166.  ],\n",
       "       [ 87.99],\n",
       "       [154.  ],\n",
       "       [100.  ],\n",
       "       [123.  ],\n",
       "       [217.  ],\n",
       "       [140.  ],\n",
       "       [109.  ],\n",
       "       [127.  ],\n",
       "       [112.  ],\n",
       "       [192.  ],\n",
       "       [132.  ],\n",
       "       [126.  ],\n",
       "       [153.  ],\n",
       "       [158.  ],\n",
       "       [183.  ],\n",
       "       [184.  ],\n",
       "       [121.  ],\n",
       "       [159.  ],\n",
       "       [245.  ],\n",
       "       [137.  ],\n",
       "       [165.  ],\n",
       "       [152.  ],\n",
       "       [181.  ],\n",
       "       [ 80.95],\n",
       "       [137.  ],\n",
       "       [125.  ],\n",
       "       [241.  ],\n",
       "       [134.  ],\n",
       "       [150.  ],\n",
       "       [198.  ],\n",
       "       [151.  ],\n",
       "       [229.  ],\n",
       "       [253.  ],\n",
       "       [188.  ],\n",
       "       [124.  ],\n",
       "       [ 62.2 ],\n",
       "       [133.  ],\n",
       "       [208.  ],\n",
       "       [208.  ]])"
      ]
     },
     "execution_count": 11,
     "metadata": {},
     "output_type": "execute_result"
    }
   ],
   "source": [
    "Y"
   ]
  },
  {
   "cell_type": "code",
   "execution_count": 12,
   "metadata": {
    "ExecuteTime": {
     "end_time": "2021-09-04T06:15:40.248725Z",
     "start_time": "2021-09-04T06:15:40.231553Z"
    }
   },
   "outputs": [
    {
     "name": "stdout",
     "output_type": "stream",
     "text": [
      "[[3.45885939]]\n",
      "[-215.98148796]\n"
     ]
    }
   ],
   "source": [
    "print (reg_sklearn.coef_)#alpha \n",
    "print (reg_sklearn.intercept_)#beta"
   ]
  },
  {
   "cell_type": "code",
   "execution_count": 13,
   "metadata": {
    "ExecuteTime": {
     "end_time": "2021-09-04T06:25:31.963389Z",
     "start_time": "2021-09-04T06:25:31.950920Z"
    }
   },
   "outputs": [
    {
     "data": {
      "text/plain": [
       "array([[ 42.56825159],\n",
       "       [ 35.1317039 ],\n",
       "       [ 66.95321031],\n",
       "       [ 74.389758  ],\n",
       "       [ 42.22236565],\n",
       "       [ 32.53755936],\n",
       "       [ 63.84023685],\n",
       "       [ 72.48738533],\n",
       "       [  3.65608343],\n",
       "       [ 37.20701954],\n",
       "       [ 32.71050233],\n",
       "       [ 43.43296644],\n",
       "       [ 36.8611336 ],\n",
       "       [ 57.26840401],\n",
       "       [ 50.35068522],\n",
       "       [ 22.16098118],\n",
       "       [ 46.71888286],\n",
       "       [ 40.49293596],\n",
       "       [ 39.28233517],\n",
       "       [ 46.54593989],\n",
       "       [ 49.83185632],\n",
       "       [ 63.84023685],\n",
       "       [ 60.38137746],\n",
       "       [ 92.54876981],\n",
       "       [ 67.64498219],\n",
       "       [102.23357611],\n",
       "       [ 83.55573539],\n",
       "       [ 62.4566931 ],\n",
       "       [ 81.48041975],\n",
       "       [ 69.37441188],\n",
       "       [ 72.83327127],\n",
       "       [ 88.74402448],\n",
       "       [ 98.08294484],\n",
       "       [ 93.24054169],\n",
       "       [136.82217003],\n",
       "       [110.88072459],\n",
       "       [ 98.77471671],\n",
       "       [140.28102942],\n",
       "       [ 60.7272634 ],\n",
       "       [ 57.26840401],\n",
       "       [ 72.83327127],\n",
       "       [ 46.89182583],\n",
       "       [ 62.4566931 ],\n",
       "       [ 83.20984945],\n",
       "       [ 71.10384158],\n",
       "       [154.46235293],\n",
       "       [110.18895271],\n",
       "       [110.88072459],\n",
       "       [ 59.68960558],\n",
       "       [ 58.30606183],\n",
       "       [ 94.62408544],\n",
       "       [ 73.87092909],\n",
       "       [ 78.71333224],\n",
       "       [ 45.16239614],\n",
       "       [ 55.19308837],\n",
       "       [ 55.88486025],\n",
       "       [ 87.70636666],\n",
       "       [ 82.51807757],\n",
       "       [ 79.75099006],\n",
       "       [ 73.52504315],\n",
       "       [ 52.42600086],\n",
       "       [ 77.67567442],\n",
       "       [ 60.03549152],\n",
       "       [158.6129842 ],\n",
       "       [197.69809533],\n",
       "       [198.73575314],\n",
       "       [117.79844337],\n",
       "       [148.9281779 ],\n",
       "       [147.1987482 ],\n",
       "       [154.11646699],\n",
       "       [154.11646699],\n",
       "       [133.36331063],\n",
       "       [119.52787307],\n",
       "       [129.90445124],\n",
       "       [157.57532638],\n",
       "       [129.90445124],\n",
       "       [140.28102942],\n",
       "       [143.73988881],\n",
       "       [150.65760759],\n",
       "       [161.03418577],\n",
       "       [142.01045911],\n",
       "       [164.49304516],\n",
       "       [164.49304516],\n",
       "       [171.41076395],\n",
       "       [159.30475607],\n",
       "       [143.73988881],\n",
       "       [167.95190455],\n",
       "       [159.30475607],\n",
       "       [202.54049847],\n",
       "       [161.03418577],\n",
       "       [121.25730276],\n",
       "       [148.9281779 ],\n",
       "       [122.98673246],\n",
       "       [110.88072459],\n",
       "       [119.52787307],\n",
       "       [147.1987482 ],\n",
       "       [150.65760759],\n",
       "       [126.44559185],\n",
       "       [ 98.77471671],\n",
       "       [138.55159972],\n",
       "       [150.65760759],\n",
       "       [161.38007171],\n",
       "       [181.78734212],\n",
       "       [133.36331063],\n",
       "       [130.25033718],\n",
       "       [106.73009332],\n",
       "       [136.13039815],\n",
       "       [157.22944044],\n",
       "       [159.30475607]])"
      ]
     },
     "execution_count": 13,
     "metadata": {},
     "output_type": "execute_result"
    }
   ],
   "source": [
    "reg_sklearn.predict(X)"
   ]
  },
  {
   "cell_type": "code",
   "execution_count": 14,
   "metadata": {
    "ExecuteTime": {
     "end_time": "2021-09-04T07:04:29.750193Z",
     "start_time": "2021-09-04T07:04:29.457912Z"
    }
   },
   "outputs": [
    {
     "data": {
      "image/png": "[encoded data removed]",
      "text/plain": [
       "<Figure size 720x504 with 1 Axes>"
      ]
     },
     "metadata": {},
     "output_type": "display_data"
    }
   ],
   "source": [
    "plt.figure(figsize=(10,7),facecolor=\"lightgreen\")\n",
    "plt.scatter(wcat.Waist,(wcat.AT),color=\"black\");\n",
    "plt.plot(wcat.Waist,reg_sklearn.predict(X),color=\"red\");\n",
    "plt.xlabel(\"Waist\");\n",
    "plt.ylabel(\"AT\")\n",
    "plt.xlim(60,120)\n",
    "plt.ylim(0,+300)\n",
    "# print (wcat.AT)\n",
    "plt.show()"
   ]
  },
  {
   "cell_type": "markdown",
   "metadata": {},
   "source": [
    "## model validation "
   ]
  },
  {
   "cell_type": "code",
   "execution_count": 15,
   "metadata": {
    "ExecuteTime": {
     "end_time": "2021-08-31T15:24:15.231617Z",
     "start_time": "2021-08-31T15:24:15.224607Z"
    }
   },
   "outputs": [
    {
     "data": {
      "text/plain": [
       "0.6700368930528429"
      ]
     },
     "execution_count": 15,
     "metadata": {},
     "output_type": "execute_result"
    }
   ],
   "source": [
    "pred_train_lm =reg_sklearn.predict(X)\n",
    "r2_score(wcat[\"AT\"],pred_train_lm)\n"
   ]
  },
  {
   "cell_type": "markdown",
   "metadata": {},
   "source": [
    "# model with statsmodels"
   ]
  },
  {
   "cell_type": "code",
   "execution_count": 16,
   "metadata": {
    "ExecuteTime": {
     "end_time": "2021-08-31T15:24:16.472432Z",
     "start_time": "2021-08-31T15:24:16.460020Z"
    }
   },
   "outputs": [
    {
     "data": {
      "text/html": [
       "<div>\n",
       "<style scoped>\n",
       "    .dataframe tbody tr th:only-of-type {\n",
       "        vertical-align: middle;\n",
       "    }\n",
       "\n",
       "    .dataframe tbody tr th {\n",
       "        vertical-align: top;\n",
       "    }\n",
       "\n",
       "    .dataframe thead th {\n",
       "        text-align: right;\n",
       "    }\n",
       "</style>\n",
       "<table border=\"1\" class=\"dataframe\">\n",
       "  <thead>\n",
       "    <tr style=\"text-align: right;\">\n",
       "      <th></th>\n",
       "      <th>Waist</th>\n",
       "      <th>AT</th>\n",
       "    </tr>\n",
       "  </thead>\n",
       "  <tbody>\n",
       "    <tr>\n",
       "      <th>0</th>\n",
       "      <td>74.75</td>\n",
       "      <td>25.72</td>\n",
       "    </tr>\n",
       "    <tr>\n",
       "      <th>1</th>\n",
       "      <td>72.60</td>\n",
       "      <td>25.89</td>\n",
       "    </tr>\n",
       "    <tr>\n",
       "      <th>2</th>\n",
       "      <td>81.80</td>\n",
       "      <td>42.60</td>\n",
       "    </tr>\n",
       "    <tr>\n",
       "      <th>3</th>\n",
       "      <td>83.95</td>\n",
       "      <td>42.80</td>\n",
       "    </tr>\n",
       "    <tr>\n",
       "      <th>4</th>\n",
       "      <td>74.65</td>\n",
       "      <td>29.84</td>\n",
       "    </tr>\n",
       "    <tr>\n",
       "      <th>...</th>\n",
       "      <td>...</td>\n",
       "      <td>...</td>\n",
       "    </tr>\n",
       "    <tr>\n",
       "      <th>104</th>\n",
       "      <td>100.10</td>\n",
       "      <td>124.00</td>\n",
       "    </tr>\n",
       "    <tr>\n",
       "      <th>105</th>\n",
       "      <td>93.30</td>\n",
       "      <td>62.20</td>\n",
       "    </tr>\n",
       "    <tr>\n",
       "      <th>106</th>\n",
       "      <td>101.80</td>\n",
       "      <td>133.00</td>\n",
       "    </tr>\n",
       "    <tr>\n",
       "      <th>107</th>\n",
       "      <td>107.90</td>\n",
       "      <td>208.00</td>\n",
       "    </tr>\n",
       "    <tr>\n",
       "      <th>108</th>\n",
       "      <td>108.50</td>\n",
       "      <td>208.00</td>\n",
       "    </tr>\n",
       "  </tbody>\n",
       "</table>\n",
       "<p>109 rows × 2 columns</p>\n",
       "</div>"
      ],
      "text/plain": [
       "      Waist      AT\n",
       "0     74.75   25.72\n",
       "1     72.60   25.89\n",
       "2     81.80   42.60\n",
       "3     83.95   42.80\n",
       "4     74.65   29.84\n",
       "..      ...     ...\n",
       "104  100.10  124.00\n",
       "105   93.30   62.20\n",
       "106  101.80  133.00\n",
       "107  107.90  208.00\n",
       "108  108.50  208.00\n",
       "\n",
       "[109 rows x 2 columns]"
      ]
     },
     "execution_count": 16,
     "metadata": {},
     "output_type": "execute_result"
    }
   ],
   "source": [
    "wcat"
   ]
  },
  {
   "cell_type": "code",
   "execution_count": 17,
   "metadata": {
    "ExecuteTime": {
     "end_time": "2021-09-04T06:29:55.380268Z",
     "start_time": "2021-09-04T06:29:55.371110Z"
    }
   },
   "outputs": [],
   "source": [
    "first_model = smf.ols(\"AT~Waist\",data=wcat).fit()\n",
    "# pred_statsmodel = first_model.predict(wcat[\"Waist\"])\n",
    "# r2_score(wcat[\"AT\"],pred_train_lm)"
   ]
  },
  {
   "cell_type": "code",
   "execution_count": 18,
   "metadata": {
    "ExecuteTime": {
     "end_time": "2021-08-31T15:24:40.393926Z",
     "start_time": "2021-08-31T15:24:40.382160Z"
    }
   },
   "outputs": [
    {
     "data": {
      "text/plain": [
       "Intercept   -215.981488\n",
       "Waist          3.458859\n",
       "dtype: float64"
      ]
     },
     "execution_count": 18,
     "metadata": {},
     "output_type": "execute_result"
    }
   ],
   "source": [
    "first_model.params"
   ]
  },
  {
   "cell_type": "code",
   "execution_count": 19,
   "metadata": {
    "ExecuteTime": {
     "end_time": "2021-08-31T15:24:40.993728Z",
     "start_time": "2021-08-31T15:24:40.978930Z"
    },
    "scrolled": false
   },
   "outputs": [
    {
     "data": {
      "text/html": [
       "<table class=\"simpletable\">\n",
       "<tr>\n",
       "        <td>Model:</td>               <td>OLS</td>         <td>Adj. R-squared:</td>     <td>0.667</td>  \n",
       "</tr>\n",
       "<tr>\n",
       "  <td>Dependent Variable:</td>        <td>AT</td>               <td>AIC:</td>         <td>1073.9772</td>\n",
       "</tr>\n",
       "<tr>\n",
       "         <td>Date:</td>        <td>2022-02-22 22:02</td>        <td>BIC:</td>         <td>1079.3599</td>\n",
       "</tr>\n",
       "<tr>\n",
       "   <td>No. Observations:</td>         <td>109</td>         <td>Log-Likelihood:</td>    <td>-534.99</td> \n",
       "</tr>\n",
       "<tr>\n",
       "       <td>Df Model:</td>              <td>1</td>           <td>F-statistic:</td>       <td>217.3</td>  \n",
       "</tr>\n",
       "<tr>\n",
       "     <td>Df Residuals:</td>           <td>107</td>       <td>Prob (F-statistic):</td> <td>1.62e-27</td> \n",
       "</tr>\n",
       "<tr>\n",
       "      <td>R-squared:</td>            <td>0.670</td>            <td>Scale:</td>         <td>1093.3</td>  \n",
       "</tr>\n",
       "</table>\n",
       "<table class=\"simpletable\">\n",
       "<tr>\n",
       "      <td></td>        <th>Coef.</th>   <th>Std.Err.</th>    <th>t</th>     <th>P>|t|</th>  <th>[0.025</th>    <th>0.975]</th>  \n",
       "</tr>\n",
       "<tr>\n",
       "  <th>Intercept</th> <td>-215.9815</td>  <td>21.7963</td> <td>-9.9091</td> <td>0.0000</td> <td>-259.1901</td> <td>-172.7729</td>\n",
       "</tr>\n",
       "<tr>\n",
       "  <th>Waist</th>      <td>3.4589</td>    <td>0.2347</td>  <td>14.7404</td> <td>0.0000</td>  <td>2.9937</td>    <td>3.9240</td>  \n",
       "</tr>\n",
       "</table>\n",
       "<table class=\"simpletable\">\n",
       "<tr>\n",
       "     <td>Omnibus:</td>    <td>3.960</td>  <td>Durbin-Watson:</td>   <td>1.560</td>\n",
       "</tr>\n",
       "<tr>\n",
       "  <td>Prob(Omnibus):</td> <td>0.138</td> <td>Jarque-Bera (JB):</td> <td>4.596</td>\n",
       "</tr>\n",
       "<tr>\n",
       "       <td>Skew:</td>     <td>0.104</td>     <td>Prob(JB):</td>     <td>0.100</td>\n",
       "</tr>\n",
       "<tr>\n",
       "     <td>Kurtosis:</td>   <td>3.984</td>  <td>Condition No.:</td>    <td>639</td> \n",
       "</tr>\n",
       "</table>"
      ],
      "text/plain": [
       "<class 'statsmodels.iolib.summary2.Summary'>\n",
       "\"\"\"\n",
       "                 Results: Ordinary least squares\n",
       "==================================================================\n",
       "Model:              OLS              Adj. R-squared:     0.667    \n",
       "Dependent Variable: AT               AIC:                1073.9772\n",
       "Date:               2022-02-22 22:02 BIC:                1079.3599\n",
       "No. Observations:   109              Log-Likelihood:     -534.99  \n",
       "Df Model:           1                F-statistic:        217.3    \n",
       "Df Residuals:       107              Prob (F-statistic): 1.62e-27 \n",
       "R-squared:          0.670            Scale:              1093.3   \n",
       "------------------------------------------------------------------\n",
       "               Coef.   Std.Err.    t    P>|t|    [0.025    0.975] \n",
       "------------------------------------------------------------------\n",
       "Intercept    -215.9815  21.7963 -9.9091 0.0000 -259.1901 -172.7729\n",
       "Waist           3.4589   0.2347 14.7404 0.0000    2.9937    3.9240\n",
       "------------------------------------------------------------------\n",
       "Omnibus:               3.960        Durbin-Watson:           1.560\n",
       "Prob(Omnibus):         0.138        Jarque-Bera (JB):        4.596\n",
       "Skew:                  0.104        Prob(JB):                0.100\n",
       "Kurtosis:              3.984        Condition No.:           639  \n",
       "==================================================================\n",
       "\n",
       "\"\"\""
      ]
     },
     "execution_count": 19,
     "metadata": {},
     "output_type": "execute_result"
    }
   ],
   "source": [
    "first_model.summary2()\n"
   ]
  },
  {
   "cell_type": "code",
   "execution_count": 20,
   "metadata": {
    "ExecuteTime": {
     "end_time": "2021-08-08T10:59:30.763494Z",
     "start_time": "2021-08-08T10:59:30.688901Z"
    }
   },
   "outputs": [
    {
     "data": {
      "text/html": [
       "<table class=\"simpletable\">\n",
       "<caption>OLS Regression Results</caption>\n",
       "<tr>\n",
       "  <th>Dep. Variable:</th>           <td>AT</td>        <th>  R-squared:         </th> <td>   0.675</td>\n",
       "</tr>\n",
       "<tr>\n",
       "  <th>Model:</th>                   <td>OLS</td>       <th>  Adj. R-squared:    </th> <td>   0.672</td>\n",
       "</tr>\n",
       "<tr>\n",
       "  <th>Method:</th>             <td>Least Squares</td>  <th>  F-statistic:       </th> <td>   222.6</td>\n",
       "</tr>\n",
       "<tr>\n",
       "  <th>Date:</th>             <td>Tue, 22 Feb 2022</td> <th>  Prob (F-statistic):</th> <td>6.80e-28</td>\n",
       "</tr>\n",
       "<tr>\n",
       "  <th>Time:</th>                 <td>22:02:33</td>     <th>  Log-Likelihood:    </th> <td> -534.11</td>\n",
       "</tr>\n",
       "<tr>\n",
       "  <th>No. Observations:</th>      <td>   109</td>      <th>  AIC:               </th> <td>   1072.</td>\n",
       "</tr>\n",
       "<tr>\n",
       "  <th>Df Residuals:</th>          <td>   107</td>      <th>  BIC:               </th> <td>   1078.</td>\n",
       "</tr>\n",
       "<tr>\n",
       "  <th>Df Model:</th>              <td>     1</td>      <th>                     </th>     <td> </td>   \n",
       "</tr>\n",
       "<tr>\n",
       "  <th>Covariance Type:</th>      <td>nonrobust</td>    <th>                     </th>     <td> </td>   \n",
       "</tr>\n",
       "</table>\n",
       "<table class=\"simpletable\">\n",
       "<tr>\n",
       "        <td></td>           <th>coef</th>     <th>std err</th>      <th>t</th>      <th>P>|t|</th>  <th>[0.025</th>    <th>0.975]</th>  \n",
       "</tr>\n",
       "<tr>\n",
       "  <th>Intercept</th>     <td>-1328.3420</td> <td>   95.923</td> <td>  -13.848</td> <td> 0.000</td> <td>-1518.498</td> <td>-1138.186</td>\n",
       "</tr>\n",
       "<tr>\n",
       "  <th>np.log(Waist)</th> <td>  317.1356</td> <td>   21.258</td> <td>   14.918</td> <td> 0.000</td> <td>  274.994</td> <td>  359.277</td>\n",
       "</tr>\n",
       "</table>\n",
       "<table class=\"simpletable\">\n",
       "<tr>\n",
       "  <th>Omnibus:</th>       <td> 3.317</td> <th>  Durbin-Watson:     </th> <td>   1.599</td>\n",
       "</tr>\n",
       "<tr>\n",
       "  <th>Prob(Omnibus):</th> <td> 0.190</td> <th>  Jarque-Bera (JB):  </th> <td>   2.908</td>\n",
       "</tr>\n",
       "<tr>\n",
       "  <th>Skew:</th>          <td> 0.235</td> <th>  Prob(JB):          </th> <td>   0.234</td>\n",
       "</tr>\n",
       "<tr>\n",
       "  <th>Kurtosis:</th>      <td> 3.647</td> <th>  Cond. No.          </th> <td>    145.</td>\n",
       "</tr>\n",
       "</table><br/><br/>Warnings:<br/>[1] Standard Errors assume that the covariance matrix of the errors is correctly specified."
      ],
      "text/plain": [
       "<class 'statsmodels.iolib.summary.Summary'>\n",
       "\"\"\"\n",
       "                            OLS Regression Results                            \n",
       "==============================================================================\n",
       "Dep. Variable:                     AT   R-squared:                       0.675\n",
       "Model:                            OLS   Adj. R-squared:                  0.672\n",
       "Method:                 Least Squares   F-statistic:                     222.6\n",
       "Date:                Tue, 22 Feb 2022   Prob (F-statistic):           6.80e-28\n",
       "Time:                        22:02:33   Log-Likelihood:                -534.11\n",
       "No. Observations:                 109   AIC:                             1072.\n",
       "Df Residuals:                     107   BIC:                             1078.\n",
       "Df Model:                           1                                         \n",
       "Covariance Type:            nonrobust                                         \n",
       "=================================================================================\n",
       "                    coef    std err          t      P>|t|      [0.025      0.975]\n",
       "---------------------------------------------------------------------------------\n",
       "Intercept     -1328.3420     95.923    -13.848      0.000   -1518.498   -1138.186\n",
       "np.log(Waist)   317.1356     21.258     14.918      0.000     274.994     359.277\n",
       "==============================================================================\n",
       "Omnibus:                        3.317   Durbin-Watson:                   1.599\n",
       "Prob(Omnibus):                  0.190   Jarque-Bera (JB):                2.908\n",
       "Skew:                           0.235   Prob(JB):                        0.234\n",
       "Kurtosis:                       3.647   Cond. No.                         145.\n",
       "==============================================================================\n",
       "\n",
       "Warnings:\n",
       "[1] Standard Errors assume that the covariance matrix of the errors is correctly specified.\n",
       "\"\"\""
      ]
     },
     "execution_count": 20,
     "metadata": {},
     "output_type": "execute_result"
    }
   ],
   "source": [
    "model2 = smf.ols('AT~np.log(Waist)',data=wcat).fit()\n",
    "model2.summary()\n"
   ]
  },
  {
   "cell_type": "code",
   "execution_count": 21,
   "metadata": {
    "ExecuteTime": {
     "end_time": "2021-08-08T10:59:31.515522Z",
     "start_time": "2021-08-08T10:59:31.464480Z"
    }
   },
   "outputs": [
    {
     "data": {
      "text/html": [
       "<table class=\"simpletable\">\n",
       "<caption>OLS Regression Results</caption>\n",
       "<tr>\n",
       "  <th>Dep. Variable:</th>       <td>np.log(AT)</td>    <th>  R-squared:         </th> <td>   0.707</td>\n",
       "</tr>\n",
       "<tr>\n",
       "  <th>Model:</th>                   <td>OLS</td>       <th>  Adj. R-squared:    </th> <td>   0.704</td>\n",
       "</tr>\n",
       "<tr>\n",
       "  <th>Method:</th>             <td>Least Squares</td>  <th>  F-statistic:       </th> <td>   258.3</td>\n",
       "</tr>\n",
       "<tr>\n",
       "  <th>Date:</th>             <td>Tue, 22 Feb 2022</td> <th>  Prob (F-statistic):</th> <td>2.68e-30</td>\n",
       "</tr>\n",
       "<tr>\n",
       "  <th>Time:</th>                 <td>22:02:33</td>     <th>  Log-Likelihood:    </th> <td> -40.123</td>\n",
       "</tr>\n",
       "<tr>\n",
       "  <th>No. Observations:</th>      <td>   109</td>      <th>  AIC:               </th> <td>   84.25</td>\n",
       "</tr>\n",
       "<tr>\n",
       "  <th>Df Residuals:</th>          <td>   107</td>      <th>  BIC:               </th> <td>   89.63</td>\n",
       "</tr>\n",
       "<tr>\n",
       "  <th>Df Model:</th>              <td>     1</td>      <th>                     </th>     <td> </td>   \n",
       "</tr>\n",
       "<tr>\n",
       "  <th>Covariance Type:</th>      <td>nonrobust</td>    <th>                     </th>     <td> </td>   \n",
       "</tr>\n",
       "</table>\n",
       "<table class=\"simpletable\">\n",
       "<tr>\n",
       "      <td></td>         <th>coef</th>     <th>std err</th>      <th>t</th>      <th>P>|t|</th>  <th>[0.025</th>    <th>0.975]</th>  \n",
       "</tr>\n",
       "<tr>\n",
       "  <th>Intercept</th> <td>    0.7410</td> <td>    0.233</td> <td>    3.185</td> <td> 0.002</td> <td>    0.280</td> <td>    1.202</td>\n",
       "</tr>\n",
       "<tr>\n",
       "  <th>Waist</th>     <td>    0.0403</td> <td>    0.003</td> <td>   16.073</td> <td> 0.000</td> <td>    0.035</td> <td>    0.045</td>\n",
       "</tr>\n",
       "</table>\n",
       "<table class=\"simpletable\">\n",
       "<tr>\n",
       "  <th>Omnibus:</th>       <td> 2.604</td> <th>  Durbin-Watson:     </th> <td>   1.201</td>\n",
       "</tr>\n",
       "<tr>\n",
       "  <th>Prob(Omnibus):</th> <td> 0.272</td> <th>  Jarque-Bera (JB):  </th> <td>   2.117</td>\n",
       "</tr>\n",
       "<tr>\n",
       "  <th>Skew:</th>          <td>-0.329</td> <th>  Prob(JB):          </th> <td>   0.347</td>\n",
       "</tr>\n",
       "<tr>\n",
       "  <th>Kurtosis:</th>      <td> 3.182</td> <th>  Cond. No.          </th> <td>    639.</td>\n",
       "</tr>\n",
       "</table><br/><br/>Warnings:<br/>[1] Standard Errors assume that the covariance matrix of the errors is correctly specified."
      ],
      "text/plain": [
       "<class 'statsmodels.iolib.summary.Summary'>\n",
       "\"\"\"\n",
       "                            OLS Regression Results                            \n",
       "==============================================================================\n",
       "Dep. Variable:             np.log(AT)   R-squared:                       0.707\n",
       "Model:                            OLS   Adj. R-squared:                  0.704\n",
       "Method:                 Least Squares   F-statistic:                     258.3\n",
       "Date:                Tue, 22 Feb 2022   Prob (F-statistic):           2.68e-30\n",
       "Time:                        22:02:33   Log-Likelihood:                -40.123\n",
       "No. Observations:                 109   AIC:                             84.25\n",
       "Df Residuals:                     107   BIC:                             89.63\n",
       "Df Model:                           1                                         \n",
       "Covariance Type:            nonrobust                                         \n",
       "==============================================================================\n",
       "                 coef    std err          t      P>|t|      [0.025      0.975]\n",
       "------------------------------------------------------------------------------\n",
       "Intercept      0.7410      0.233      3.185      0.002       0.280       1.202\n",
       "Waist          0.0403      0.003     16.073      0.000       0.035       0.045\n",
       "==============================================================================\n",
       "Omnibus:                        2.604   Durbin-Watson:                   1.201\n",
       "Prob(Omnibus):                  0.272   Jarque-Bera (JB):                2.117\n",
       "Skew:                          -0.329   Prob(JB):                        0.347\n",
       "Kurtosis:                       3.182   Cond. No.                         639.\n",
       "==============================================================================\n",
       "\n",
       "Warnings:\n",
       "[1] Standard Errors assume that the covariance matrix of the errors is correctly specified.\n",
       "\"\"\""
      ]
     },
     "execution_count": 21,
     "metadata": {},
     "output_type": "execute_result"
    }
   ],
   "source": [
    "model3 = smf.ols('np.log(AT)~Waist',data=wcat).fit()\n",
    "model3.summary() "
   ]
  },
  {
   "cell_type": "code",
   "execution_count": 22,
   "metadata": {
    "ExecuteTime": {
     "end_time": "2021-08-08T10:59:32.284261Z",
     "start_time": "2021-08-08T10:59:32.251920Z"
    }
   },
   "outputs": [
    {
     "data": {
      "text/html": [
       "<table class=\"simpletable\">\n",
       "<caption>OLS Regression Results</caption>\n",
       "<tr>\n",
       "  <th>Dep. Variable:</th>       <td>np.log(AT)</td>    <th>  R-squared:         </th> <td>   0.779</td>\n",
       "</tr>\n",
       "<tr>\n",
       "  <th>Model:</th>                   <td>OLS</td>       <th>  Adj. R-squared:    </th> <td>   0.775</td>\n",
       "</tr>\n",
       "<tr>\n",
       "  <th>Method:</th>             <td>Least Squares</td>  <th>  F-statistic:       </th> <td>   186.8</td>\n",
       "</tr>\n",
       "<tr>\n",
       "  <th>Date:</th>             <td>Tue, 22 Feb 2022</td> <th>  Prob (F-statistic):</th> <td>1.80e-35</td>\n",
       "</tr>\n",
       "<tr>\n",
       "  <th>Time:</th>                 <td>22:02:33</td>     <th>  Log-Likelihood:    </th> <td> -24.779</td>\n",
       "</tr>\n",
       "<tr>\n",
       "  <th>No. Observations:</th>      <td>   109</td>      <th>  AIC:               </th> <td>   55.56</td>\n",
       "</tr>\n",
       "<tr>\n",
       "  <th>Df Residuals:</th>          <td>   106</td>      <th>  BIC:               </th> <td>   63.63</td>\n",
       "</tr>\n",
       "<tr>\n",
       "  <th>Df Model:</th>              <td>     2</td>      <th>                     </th>     <td> </td>   \n",
       "</tr>\n",
       "<tr>\n",
       "  <th>Covariance Type:</th>      <td>nonrobust</td>    <th>                     </th>     <td> </td>   \n",
       "</tr>\n",
       "</table>\n",
       "<table class=\"simpletable\">\n",
       "<tr>\n",
       "      <td></td>         <th>coef</th>     <th>std err</th>      <th>t</th>      <th>P>|t|</th>  <th>[0.025</th>    <th>0.975]</th>  \n",
       "</tr>\n",
       "<tr>\n",
       "  <th>Intercept</th> <td>   -7.8241</td> <td>    1.473</td> <td>   -5.312</td> <td> 0.000</td> <td>  -10.744</td> <td>   -4.904</td>\n",
       "</tr>\n",
       "<tr>\n",
       "  <th>Waist</th>     <td>    0.2289</td> <td>    0.032</td> <td>    7.107</td> <td> 0.000</td> <td>    0.165</td> <td>    0.293</td>\n",
       "</tr>\n",
       "<tr>\n",
       "  <th>Waist_Sq</th>  <td>   -0.0010</td> <td>    0.000</td> <td>   -5.871</td> <td> 0.000</td> <td>   -0.001</td> <td>   -0.001</td>\n",
       "</tr>\n",
       "</table>\n",
       "<table class=\"simpletable\">\n",
       "<tr>\n",
       "  <th>Omnibus:</th>       <td> 0.325</td> <th>  Durbin-Watson:     </th> <td>   1.464</td>\n",
       "</tr>\n",
       "<tr>\n",
       "  <th>Prob(Omnibus):</th> <td> 0.850</td> <th>  Jarque-Bera (JB):  </th> <td>   0.271</td>\n",
       "</tr>\n",
       "<tr>\n",
       "  <th>Skew:</th>          <td> 0.119</td> <th>  Prob(JB):          </th> <td>   0.873</td>\n",
       "</tr>\n",
       "<tr>\n",
       "  <th>Kurtosis:</th>      <td> 2.949</td> <th>  Cond. No.          </th> <td>4.49e+05</td>\n",
       "</tr>\n",
       "</table><br/><br/>Warnings:<br/>[1] Standard Errors assume that the covariance matrix of the errors is correctly specified.<br/>[2] The condition number is large, 4.49e+05. This might indicate that there are<br/>strong multicollinearity or other numerical problems."
      ],
      "text/plain": [
       "<class 'statsmodels.iolib.summary.Summary'>\n",
       "\"\"\"\n",
       "                            OLS Regression Results                            \n",
       "==============================================================================\n",
       "Dep. Variable:             np.log(AT)   R-squared:                       0.779\n",
       "Model:                            OLS   Adj. R-squared:                  0.775\n",
       "Method:                 Least Squares   F-statistic:                     186.8\n",
       "Date:                Tue, 22 Feb 2022   Prob (F-statistic):           1.80e-35\n",
       "Time:                        22:02:33   Log-Likelihood:                -24.779\n",
       "No. Observations:                 109   AIC:                             55.56\n",
       "Df Residuals:                     106   BIC:                             63.63\n",
       "Df Model:                           2                                         \n",
       "Covariance Type:            nonrobust                                         \n",
       "==============================================================================\n",
       "                 coef    std err          t      P>|t|      [0.025      0.975]\n",
       "------------------------------------------------------------------------------\n",
       "Intercept     -7.8241      1.473     -5.312      0.000     -10.744      -4.904\n",
       "Waist          0.2289      0.032      7.107      0.000       0.165       0.293\n",
       "Waist_Sq      -0.0010      0.000     -5.871      0.000      -0.001      -0.001\n",
       "==============================================================================\n",
       "Omnibus:                        0.325   Durbin-Watson:                   1.464\n",
       "Prob(Omnibus):                  0.850   Jarque-Bera (JB):                0.271\n",
       "Skew:                           0.119   Prob(JB):                        0.873\n",
       "Kurtosis:                       2.949   Cond. No.                     4.49e+05\n",
       "==============================================================================\n",
       "\n",
       "Warnings:\n",
       "[1] Standard Errors assume that the covariance matrix of the errors is correctly specified.\n",
       "[2] The condition number is large, 4.49e+05. This might indicate that there are\n",
       "strong multicollinearity or other numerical problems.\n",
       "\"\"\""
      ]
     },
     "execution_count": 22,
     "metadata": {},
     "output_type": "execute_result"
    }
   ],
   "source": [
    "wcat[\"Waist_Sq\"] = wcat.Waist**2\n",
    "model_quad = smf.ols(\"np.log(AT)~Waist+Waist_Sq\",data=wcat).fit()\n",
    "# model_quad.params\n",
    "model_quad.summary()"
   ]
  },
  {
   "cell_type": "code",
   "execution_count": 23,
   "metadata": {
    "ExecuteTime": {
     "end_time": "2021-08-08T11:00:13.152662Z",
     "start_time": "2021-08-08T11:00:13.113894Z"
    }
   },
   "outputs": [
    {
     "data": {
      "text/html": [
       "<div>\n",
       "<style scoped>\n",
       "    .dataframe tbody tr th:only-of-type {\n",
       "        vertical-align: middle;\n",
       "    }\n",
       "\n",
       "    .dataframe tbody tr th {\n",
       "        vertical-align: top;\n",
       "    }\n",
       "\n",
       "    .dataframe thead th {\n",
       "        text-align: right;\n",
       "    }\n",
       "</style>\n",
       "<table border=\"1\" class=\"dataframe\">\n",
       "  <thead>\n",
       "    <tr style=\"text-align: right;\">\n",
       "      <th></th>\n",
       "      <th>Waist</th>\n",
       "      <th>AT</th>\n",
       "      <th>Waist_Sq</th>\n",
       "    </tr>\n",
       "  </thead>\n",
       "  <tbody>\n",
       "    <tr>\n",
       "      <th>0</th>\n",
       "      <td>74.75</td>\n",
       "      <td>25.72</td>\n",
       "      <td>5587.5625</td>\n",
       "    </tr>\n",
       "    <tr>\n",
       "      <th>1</th>\n",
       "      <td>72.60</td>\n",
       "      <td>25.89</td>\n",
       "      <td>5270.7600</td>\n",
       "    </tr>\n",
       "    <tr>\n",
       "      <th>2</th>\n",
       "      <td>81.80</td>\n",
       "      <td>42.60</td>\n",
       "      <td>6691.2400</td>\n",
       "    </tr>\n",
       "    <tr>\n",
       "      <th>3</th>\n",
       "      <td>83.95</td>\n",
       "      <td>42.80</td>\n",
       "      <td>7047.6025</td>\n",
       "    </tr>\n",
       "    <tr>\n",
       "      <th>4</th>\n",
       "      <td>74.65</td>\n",
       "      <td>29.84</td>\n",
       "      <td>5572.6225</td>\n",
       "    </tr>\n",
       "    <tr>\n",
       "      <th>...</th>\n",
       "      <td>...</td>\n",
       "      <td>...</td>\n",
       "      <td>...</td>\n",
       "    </tr>\n",
       "    <tr>\n",
       "      <th>104</th>\n",
       "      <td>100.10</td>\n",
       "      <td>124.00</td>\n",
       "      <td>10020.0100</td>\n",
       "    </tr>\n",
       "    <tr>\n",
       "      <th>105</th>\n",
       "      <td>93.30</td>\n",
       "      <td>62.20</td>\n",
       "      <td>8704.8900</td>\n",
       "    </tr>\n",
       "    <tr>\n",
       "      <th>106</th>\n",
       "      <td>101.80</td>\n",
       "      <td>133.00</td>\n",
       "      <td>10363.2400</td>\n",
       "    </tr>\n",
       "    <tr>\n",
       "      <th>107</th>\n",
       "      <td>107.90</td>\n",
       "      <td>208.00</td>\n",
       "      <td>11642.4100</td>\n",
       "    </tr>\n",
       "    <tr>\n",
       "      <th>108</th>\n",
       "      <td>108.50</td>\n",
       "      <td>208.00</td>\n",
       "      <td>11772.2500</td>\n",
       "    </tr>\n",
       "  </tbody>\n",
       "</table>\n",
       "<p>109 rows × 3 columns</p>\n",
       "</div>"
      ],
      "text/plain": [
       "      Waist      AT    Waist_Sq\n",
       "0     74.75   25.72   5587.5625\n",
       "1     72.60   25.89   5270.7600\n",
       "2     81.80   42.60   6691.2400\n",
       "3     83.95   42.80   7047.6025\n",
       "4     74.65   29.84   5572.6225\n",
       "..      ...     ...         ...\n",
       "104  100.10  124.00  10020.0100\n",
       "105   93.30   62.20   8704.8900\n",
       "106  101.80  133.00  10363.2400\n",
       "107  107.90  208.00  11642.4100\n",
       "108  108.50  208.00  11772.2500\n",
       "\n",
       "[109 rows x 3 columns]"
      ]
     },
     "execution_count": 23,
     "metadata": {},
     "output_type": "execute_result"
    }
   ],
   "source": [
    "wcat"
   ]
  },
  {
   "cell_type": "code",
   "execution_count": 24,
   "metadata": {
    "ExecuteTime": {
     "end_time": "2021-08-08T11:00:44.181747Z",
     "start_time": "2021-08-08T11:00:44.155901Z"
    }
   },
   "outputs": [
    {
     "data": {
      "text/plain": [
       "0       36.779400\n",
       "1       31.026570\n",
       "2       60.145769\n",
       "3       68.488132\n",
       "4       36.497176\n",
       "          ...    \n",
       "104    134.555999\n",
       "105    108.012957\n",
       "106    140.081911\n",
       "107    154.205675\n",
       "108    155.034904\n",
       "Length: 109, dtype: float64"
      ]
     },
     "execution_count": 24,
     "metadata": {},
     "output_type": "execute_result"
    }
   ],
   "source": [
    "np.exp(model_quad.predict(wcat[[\"Waist\",\"Waist_Sq\"]]))"
   ]
  }
 ],
 "metadata": {
  "kernelspec": {
   "display_name": "Python 3",
   "language": "python",
   "name": "python3"
  },
  "language_info": {
   "codemirror_mode": {
    "name": "ipython",
    "version": 3
   },
   "file_extension": ".py",
   "mimetype": "text/x-python",
   "name": "python",
   "nbconvert_exporter": "python",
   "pygments_lexer": "ipython3",
   "version": "3.8.3"
  }
 },
 "nbformat": 4,
 "nbformat_minor": 2
}
